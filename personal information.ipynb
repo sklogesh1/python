{
  "nbformat": 4,
  "nbformat_minor": 0,
  "metadata": {
    "colab": {
      "name": "Untitled3.ipynb",
      "provenance": [],
      "authorship_tag": "ABX9TyMXBMR/Qv0flhCyGxL4rM5p",
      "include_colab_link": true
    },
    "kernelspec": {
      "name": "python3",
      "display_name": "Python 3"
    },
    "language_info": {
      "name": "python"
    }
  },
  "cells": [
    {
      "cell_type": "markdown",
      "metadata": {
        "id": "view-in-github",
        "colab_type": "text"
      },
      "source": [
        "<a href=\"https://colab.research.google.com/github/sklogesh1/python/blob/main/personal%20information.ipynb\" target=\"_parent\"><img src=\"https://colab.research.google.com/assets/colab-badge.svg\" alt=\"Open In Colab\"/></a>"
      ]
    },
    {
      "cell_type": "code",
      "metadata": {
        "colab": {
          "base_uri": "https://localhost:8080/"
        },
        "id": "-BHwXwn6Us4P",
        "outputId": "bbff3b29-5c1f-4739-c8e8-854fb4ef5420"
      },
      "source": [
        "name=(input(\"Enter your Name : \"))\n",
        "age=(input(\"Enter your Age : \"))\n",
        "address=(input(\"Enter your Address : \"))\n",
        "salary=(input(\"Enter your Salary : \"))\n",
        "no=(input(\"Enter your Mobile Number\"))\n",
        "print(\"NAME :\",name)\n",
        "print(\"\\nAGE :\",age)\n",
        "print(\"\\nADDRESS :\",address)\n",
        "print(\"\\nSALARY :\",salary)\n",
        "print(\"\\nMOBILE NUMBER :\",no)"
      ],
      "execution_count": 1,
      "outputs": [
        {
          "output_type": "stream",
          "text": [
            "Enter your Name : Logesh N\n",
            "Enter your Age : 19\n",
            "Enter your Address : Pudhuchatram, Namakkal main road\n",
            "Enter your Salary : 20,000\n",
            "Enter your Mobile Number7339055427\n",
            "NAME : Logesh N\n",
            "\n",
            "AGE : 19\n",
            "\n",
            "ADDRESS : Pudhuchatram, Namakkal main road\n",
            "\n",
            "SALARY : 20,000\n",
            "\n",
            "MOBILE NUMBER : 7339055427\n"
          ],
          "name": "stdout"
        }
      ]
    }
  ]
}